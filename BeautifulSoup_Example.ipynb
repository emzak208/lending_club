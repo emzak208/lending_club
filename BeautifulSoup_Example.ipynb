{
 "cells": [
  {
   "cell_type": "code",
   "execution_count": 3,
   "metadata": {
    "collapsed": true
   },
   "outputs": [],
   "source": [
    "from urllib.request import urlopen\n",
    "from bs4 import BeautifulSoup"
   ]
  },
  {
   "cell_type": "code",
   "execution_count": 4,
   "metadata": {},
   "outputs": [
    {
     "data": {
      "text/plain": [
       "'29'"
      ]
     },
     "execution_count": 4,
     "metadata": {},
     "output_type": "execute_result"
    }
   ],
   "source": [
    "url = \"https://www.wunderground.com/history/airport/KBUF/2016/1/1/DailyHistory.html\"\n",
    "page = urlopen(url)\n",
    "\n",
    "# Get temperature from page\n",
    "soup = BeautifulSoup(page, \"html.parser\")\n",
    "# dayTemp = soup.body.nobr.b.string\n",
    "dayTemp = soup.find_all(attrs={\"class\":\"wx-value\"})[0].string \n",
    "dayTemp"
   ]
  },
  {
   "cell_type": "markdown",
   "metadata": {},
   "source": [
    "## Scrape three values¶"
   ]
  },
  {
   "cell_type": "code",
   "execution_count": 5,
   "metadata": {},
   "outputs": [
    {
     "name": "stdout",
     "output_type": "stream",
     "text": [
      "[  2.68156159e+154   2.32035385e+077   2.22975339e-314]\n"
     ]
    }
   ],
   "source": [
    "import numpy as np\n",
    "\n",
    "dayTemp = np.empty(3)\n",
    "\n",
    "print(dayTemp)"
   ]
  },
  {
   "cell_type": "code",
   "execution_count": 6,
   "metadata": {},
   "outputs": [
    {
     "name": "stdout",
     "output_type": "stream",
     "text": [
      "[ 29.  30.  28.]\n"
     ]
    }
   ],
   "source": [
    "\n",
    "url = \"https://www.wunderground.com/history/airport/KBUF/2016/1/1/DailyHistory.html\"\n",
    "page = urlopen(url)\n",
    " \n",
    "# Get temperature from page\n",
    "soup = BeautifulSoup(page, \"html.parser\")\n",
    "# dayTemp = soup.body.nobr.b.string\n",
    "dayTemp[0] = soup.find_all(attrs={\"class\":\"wx-value\"})[0].string \n",
    "\n",
    "url = \"https://www.wunderground.com/history/airport/KBUF/2016/1/2/DailyHistory.html\"\n",
    "page = urlopen(url)\n",
    " \n",
    "# Get temperature from page\n",
    "soup = BeautifulSoup(page, \"html.parser\")\n",
    "# dayTemp = soup.body.nobr.b.string\n",
    "dayTemp[1] = soup.find_all(attrs={\"class\":\"wx-value\"})[0].string \n",
    "\n",
    "url = \"https://www.wunderground.com/history/airport/KBUF/2016/1/3/DailyHistory.html\"\n",
    "page = urlopen(url)\n",
    " \n",
    "# Get temperature from page\n",
    "soup = BeautifulSoup(page, \"html.parser\")\n",
    "# dayTemp = soup.body.nobr.b.string\n",
    "dayTemp[2] = soup.find_all(attrs={\"class\":\"wx-value\"})[0].string \n",
    "\n",
    "print(dayTemp)"
   ]
  },
  {
   "cell_type": "code",
   "execution_count": 7,
   "metadata": {},
   "outputs": [
    {
     "name": "stdout",
     "output_type": "stream",
     "text": [
      "[ 29.  30.  28.]\n"
     ]
    }
   ],
   "source": [
    "index = 0\n",
    "\n",
    "for d in range(1, 4):\n",
    "    url = \"https://www.wunderground.com/history/airport/KBUF/2016/1/\" + str(d) + \"/DailyHistory.html\"\n",
    "    page = urlopen(url)\n",
    " \n",
    "    # Get temperature from page\n",
    "    soup = BeautifulSoup(page, \"html.parser\")\n",
    "    # dayTemp = soup.body.nobr.b.string\n",
    "    \n",
    "    index = d-1\n",
    "    \n",
    "    dayTemp[index] = soup.find_all(attrs={\"class\":\"wx-value\"})[0].string \n",
    "    \n",
    "print(dayTemp)"
   ]
  },
  {
   "cell_type": "markdown",
   "metadata": {},
   "source": [
    "## Scrape full year of data¶"
   ]
  },
  {
   "cell_type": "code",
   "execution_count": 8,
   "metadata": {
    "collapsed": true
   },
   "outputs": [],
   "source": [
    "import numpy as np\n",
    "\n",
    "dayTemp = np.empty(366)"
   ]
  },
  {
   "cell_type": "code",
   "execution_count": null,
   "metadata": {},
   "outputs": [],
   "source": [
    "index = 0\n",
    " \n",
    "# Iterate through months and day\n",
    "for m in range(1, 13):\n",
    "    for d in range(1, 32):\n",
    " \n",
    "      # Check if already gone through month\n",
    "      if (m == 2 and d > 29):\n",
    "        break\n",
    "      elif (m in [4, 6, 9, 11] and d > 30):\n",
    "        break\n",
    " \n",
    "      # Open wunderground.com url\n",
    "      url = \"https://www.wunderground.com/history/airport/KBUF/2016/\" + str(m) + \"/\" + str(d) + \"/DailyHistory.html\"\n",
    "      page = urlopen(url)\n",
    " \n",
    "      # Get temperature from page\n",
    "      soup = BeautifulSoup(page, \"html.parser\")\n",
    "      # dayTemp = soup.body.nobr.b.string\n",
    "      dayTemp[index] = soup.find_all(attrs={\"class\":\"wx-value\"})[0].string \n",
    "        \n",
    "      index = index + 1\n",
    " \n",
    "print(dayTemp)"
   ]
  },
  {
   "cell_type": "code",
   "execution_count": null,
   "metadata": {
    "collapsed": true
   },
   "outputs": [],
   "source": [
    "print(dayTemp)"
   ]
  },
  {
   "cell_type": "markdown",
   "metadata": {},
   "source": [
    "## Read data and plot¶"
   ]
  },
  {
   "cell_type": "code",
   "execution_count": null,
   "metadata": {
    "collapsed": true
   },
   "outputs": [],
   "source": [
    "import pandas as pd\n",
    "\n",
    "buffalo = pd.DataFrame(dayTemp, columns=['Temp'])\n",
    "\n",
    "dates = pd.date_range('1/1/2016', periods=366)\n",
    "\n",
    "buffalo = buffalo.set_index(dates)\n",
    "\n",
    "print(buffalo.head(5))\n",
    "print(buffalo.tail(5))"
   ]
  },
  {
   "cell_type": "code",
   "execution_count": null,
   "metadata": {
    "collapsed": true
   },
   "outputs": [],
   "source": [
    "import matplotlib.pyplot as plt"
   ]
  },
  {
   "cell_type": "code",
   "execution_count": null,
   "metadata": {
    "collapsed": true
   },
   "outputs": [],
   "source": [
    "# plot\n",
    "plt.plot(buffalo.Temp)\n",
    "# beautify the x-labels\n",
    "plt.gcf().autofmt_xdate()\n",
    "\n",
    "plt.show()"
   ]
  },
  {
   "cell_type": "code",
   "execution_count": null,
   "metadata": {
    "collapsed": true
   },
   "outputs": [],
   "source": [
    "import seaborn as sns"
   ]
  },
  {
   "cell_type": "code",
   "execution_count": null,
   "metadata": {
    "collapsed": true
   },
   "outputs": [],
   "source": [
    "sns.tsplot(data = buffalo.Temp)\n",
    "\n",
    "plt.show()"
   ]
  },
  {
   "cell_type": "code",
   "execution_count": null,
   "metadata": {
    "collapsed": true
   },
   "outputs": [],
   "source": [
    "from ggplot import *\n"
   ]
  },
  {
   "cell_type": "code",
   "execution_count": null,
   "metadata": {
    "collapsed": true
   },
   "outputs": [],
   "source": [
    "buffalo['Date'] = buffalo.index\n",
    "\n",
    "ggplot(aes(x='Date', y='Temp'), data=buffalo) + \\\n",
    "    geom_line(color='blue')"
   ]
  }
 ],
 "metadata": {
  "kernelspec": {
   "display_name": "Python 3",
   "language": "python",
   "name": "python3"
  },
  "language_info": {
   "codemirror_mode": {
    "name": "ipython",
    "version": 3
   },
   "file_extension": ".py",
   "mimetype": "text/x-python",
   "name": "python",
   "nbconvert_exporter": "python",
   "pygments_lexer": "ipython3",
   "version": "3.6.1"
  }
 },
 "nbformat": 4,
 "nbformat_minor": 2
}
